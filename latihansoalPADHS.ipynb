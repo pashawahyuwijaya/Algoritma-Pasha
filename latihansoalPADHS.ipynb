{
  "cells": [
    {
      "cell_type": "markdown",
      "metadata": {
        "id": "view-in-github",
        "colab_type": "text"
      },
      "source": [
        "<a href=\"https://colab.research.google.com/github/pashawahyuwijaya/Algoritma-Pasha/blob/main/latihansoalPADHS.ipynb\" target=\"_parent\"><img src=\"https://colab.research.google.com/assets/colab-badge.svg\" alt=\"Open In Colab\"/></a>"
      ]
    },
    {
      "cell_type": "code",
      "source": [
        "#program input nama\n",
        "nama = input(\"masukkan nama anda:\")\n",
        "\n",
        "print(f\"Halo, {nama}! Selamat Belajar Python.\")"
      ],
      "metadata": {
        "colab": {
          "base_uri": "https://localhost:8080/"
        },
        "id": "Rthv50wxEOuC",
        "outputId": "a909e0e6-234b-4478-f78f-cebe9d2eb1ff"
      },
      "execution_count": 15,
      "outputs": [
        {
          "output_type": "stream",
          "name": "stdout",
          "text": [
            "masukkan nama anda:Pasha\n",
            "Halo, Pasha! Selamat Belajar Python.\n"
          ]
        }
      ]
    },
    {
      "cell_type": "code",
      "source": [
        "#program input nama\n",
        "nama = input(\"masukkan nama anda:\")\n",
        "\n",
        "print(f\"Halo, {nama}! Selamat Belajar Python.\")\n"
      ],
      "metadata": {
        "colab": {
          "base_uri": "https://localhost:8080/"
        },
        "id": "TsaQ5zeXP_1p",
        "outputId": "83c06d26-96f3-4cb8-f176-fb2ba8442ed8"
      },
      "execution_count": 55,
      "outputs": [
        {
          "output_type": "stream",
          "name": "stdout",
          "text": [
            "masukkan nama anda:Pasha Ganteng\n",
            "Halo, Pasha Ganteng! Selamat Belajar Python.\n"
          ]
        }
      ]
    },
    {
      "cell_type": "code",
      "source": [
        "panjang = int(input(\"masukkan panjang (p):\"))\n",
        "Lebar = int(input(\"masukkan lebar (L): \"))\n",
        "LUAS = panjang * Lebar\n",
        "print(f\"Luas Persegi Panjang adalah {LUAS}\")"
      ],
      "metadata": {
        "colab": {
          "base_uri": "https://localhost:8080/"
        },
        "id": "jTxXadwtHrCw",
        "outputId": "b6eb30b9-0230-41fa-e3ef-8e21a0ce3d21"
      },
      "execution_count": 23,
      "outputs": [
        {
          "output_type": "stream",
          "name": "stdout",
          "text": [
            "masukkan panjang (p):5\n",
            "masukkan lebar (L): 3\n",
            "Luas Persegi Panjang adalah 15\n"
          ]
        }
      ]
    },
    {
      "cell_type": "code",
      "source": [
        "# Meminta pengguna memasukkan sebuah bilangan bulat\n",
        "bilangan = int(input(\"Masukkan sebuah bilangan bulat: \"))\n",
        "# Menentukan apakah bilangan tersebut genap atau ganjil\n",
        "if bilangan % 2 == 0:\n",
        "    print(f\"{bilangan} adalah bilangan genap.\")\n",
        "else:\n",
        "    print(f\"{bilangan} adalah bilangan ganjil.\")"
      ],
      "metadata": {
        "colab": {
          "base_uri": "https://localhost:8080/"
        },
        "id": "OMo-iCFjIBPL",
        "outputId": "d4427873-62f1-4a7c-ef1c-8d38b7ac221c"
      },
      "execution_count": 24,
      "outputs": [
        {
          "output_type": "stream",
          "name": "stdout",
          "text": [
            "Masukkan sebuah bilangan bulat: 7\n",
            "7 adalah bilangan ganjil.\n"
          ]
        }
      ]
    },
    {
      "cell_type": "code",
      "source": [
        "for i in range(1, 21):\n",
        "  print(i, end=\"        \")"
      ],
      "metadata": {
        "colab": {
          "base_uri": "https://localhost:8080/"
        },
        "id": "Ad76objNJGPZ",
        "outputId": "9a4c06b9-9731-4598-8d0a-c58d58a49164"
      },
      "execution_count": 44,
      "outputs": [
        {
          "output_type": "stream",
          "name": "stdout",
          "text": [
            "1        2        3        4        5        6        7        8        9        10        11        12        13        14        15        16        17        18        19        20        "
          ]
        }
      ]
    },
    {
      "cell_type": "code",
      "source": [
        "for i in range(1, 21):\n",
        "    print(i)\n",
        ""
      ],
      "metadata": {
        "colab": {
          "base_uri": "https://localhost:8080/"
        },
        "id": "rQeskBKMMilJ",
        "outputId": "b5654121-8923-4ad0-d3db-b8ac6c13fa57"
      },
      "execution_count": 38,
      "outputs": [
        {
          "output_type": "stream",
          "name": "stdout",
          "text": [
            "1\n",
            "2\n",
            "3\n",
            "4\n",
            "5\n",
            "6\n",
            "7\n",
            "8\n",
            "9\n",
            "10\n",
            "11\n",
            "12\n",
            "13\n",
            "14\n",
            "15\n",
            "16\n",
            "17\n",
            "18\n",
            "19\n",
            "20\n"
          ]
        }
      ]
    },
    {
      "cell_type": "code",
      "source": [
        "\n",
        "a = int(input(\"Masukkan bilangan pertama (a): \"))\n",
        "b = int(input(\"Masukkan bilangan kedua (b): \"))\n",
        "batas_bawah = min(a, b)\n",
        "batas_atas = max(a, b)\n",
        "jumlah = sum(range(batas_bawah, batas_atas + 1))\n",
        "print(f\"Jumlah semua bilangan antara {a} dan {b} adalah: {jumlah}\")"
      ],
      "metadata": {
        "colab": {
          "base_uri": "https://localhost:8080/"
        },
        "id": "70ak-Yb6O-Bx",
        "outputId": "7f5b4a64-2b2c-4de9-eedf-9f6f794e52a1"
      },
      "execution_count": 50,
      "outputs": [
        {
          "output_type": "stream",
          "name": "stdout",
          "text": [
            "Masukkan bilangan pertama (a): 3\n",
            "Masukkan bilangan kedua (b): 7\n",
            "Jumlah semua bilangan antara 3 dan 7 adalah: 25\n"
          ]
        }
      ]
    },
    {
      "cell_type": "code",
      "source": [
        "a = int(input(\"Masukkan bilangan pertama (a): \"))\n",
        "b = int(input(\"Masukkan bilangan kedua (b): \"))\n",
        "batas_bawah = min(a, b)\n",
        "batas_atas = max(a, b)\n",
        "jumlah = 0\n",
        "i = batas_bawah\n",
        "while i <= batas_atas:\n",
        "    jumlah += i\n",
        "    i += 1\n",
        "print(f\"Jumlah semua bilangan antara {a} dan {b} adalah: {jumlah}\")"
      ],
      "metadata": {
        "colab": {
          "base_uri": "https://localhost:8080/"
        },
        "id": "yL3QGb1pROao",
        "outputId": "0b83e319-f159-4d80-c640-9def859e0620"
      },
      "execution_count": 59,
      "outputs": [
        {
          "output_type": "stream",
          "name": "stdout",
          "text": [
            "Masukkan bilangan pertama (a): 3\n",
            "Masukkan bilangan kedua (b): 7\n",
            "Jumlah semua bilangan antara 3 dan 7 adalah: 25\n"
          ]
        }
      ]
    },
    {
      "cell_type": "code",
      "source": [
        "7a = int(input(\"Masukan bilangan bulat a: \"))\n",
        "b = int(input(\"Masukan bilangan bulat b: \"))\n",
        "jumlah = 0\n",
        "for i in range(a, b+1):\n",
        "    jumlah += i\n",
        "print(\"Jumlah semua bilangan antara\", a, \"dan\", b, \"adalah\", jumlah)"
      ],
      "metadata": {
        "colab": {
          "base_uri": "https://localhost:8080/"
        },
        "id": "t4Rzb-iIQdvx",
        "outputId": "97acac62-bc25-4459-8937-16e2550bb0e0"
      },
      "execution_count": 57,
      "outputs": [
        {
          "output_type": "stream",
          "name": "stdout",
          "text": [
            "Masukan bilangan bulat a: 3\n",
            "Masukan bilangan bulat b: 7\n",
            "Jumlah semua bilangan antara 3 dan 7 adalah 25\n"
          ]
        }
      ]
    },
    {
      "cell_type": "code",
      "source": [
        "a = int(input(\"Masukkan bilangan pertama (a): \"))\n",
        "b = int(input(\"Masukkan bilangan kedua (b): \"))\n",
        "batas_bawah = min(a, b)\n",
        "batas_atas = max(a, b)\n",
        "for i in range(batas_bawah, batas_atas + 1):\n",
        "    if i % 2 == 0:\n",
        "        print(i)"
      ],
      "metadata": {
        "colab": {
          "base_uri": "https://localhost:8080/"
        },
        "id": "c-dGNV01TX9I",
        "outputId": "6ff19ed7-9088-4224-fafa-131478fd63d1"
      },
      "execution_count": 60,
      "outputs": [
        {
          "output_type": "stream",
          "name": "stdout",
          "text": [
            "Masukkan bilangan pertama (a): 3\n",
            "Masukkan bilangan kedua (b): 10\n",
            "4\n",
            "6\n",
            "8\n",
            "10\n"
          ]
        }
      ]
    },
    {
      "cell_type": "code",
      "source": [
        "a = int(input(\"Masukkan bilangan pertama (a): \"))\n",
        "b = int(input(\"Masukkan bilangan kedua (b): \"))\n",
        "batas_bawah = min(a, b)\n",
        "batas_atas = max(a, b)\n",
        "if batas_bawah % 2 != 0:\n",
        "    batas_bawah += 1\n",
        "while batas_bawah <= batas_atas:\n",
        "    print(batas_bawah, end=\" \")\n",
        "    batas_bawah += 2"
      ],
      "metadata": {
        "colab": {
          "base_uri": "https://localhost:8080/"
        },
        "id": "YWsonp8PUZSh",
        "outputId": "1d503b08-3dad-4d5f-dde8-971d46f18123"
      },
      "execution_count": 65,
      "outputs": [
        {
          "output_type": "stream",
          "name": "stdout",
          "text": [
            "Masukkan bilangan pertama (a): 3\n",
            "Masukkan bilangan kedua (b): 10\n",
            "4 6 8 10 "
          ]
        }
      ]
    },
    {
      "cell_type": "code",
      "source": [
        "A = [5, 2, 8, 1]\n",
        "print(A[::-1])\n",
        "\n",
        "for i in range(len(A)-1, -1, -1):\n",
        "    print(A[i], end=\" \")\n",
        "\n",
        "    print(\"array asli\", A)\n"
      ],
      "metadata": {
        "colab": {
          "base_uri": "https://localhost:8080/"
        },
        "id": "EI8J7vhRV3-5",
        "outputId": "2ee9f7cb-bd85-4b5a-dd0c-2a1139d3d120"
      },
      "execution_count": 74,
      "outputs": [
        {
          "output_type": "stream",
          "name": "stdout",
          "text": [
            "[1, 8, 2, 5]\n",
            "1 array asli [5, 2, 8, 1]\n",
            "8 array asli [5, 2, 8, 1]\n",
            "2 array asli [5, 2, 8, 1]\n",
            "5 array asli [5, 2, 8, 1]\n"
          ]
        }
      ]
    },
    {
      "cell_type": "code",
      "source": [
        "bilangan = int(input(\"Masukkan sebuah bilangan bulat: \"))\n",
        "if bilangan <= 1:\n",
        "    print(f\"{bilangan} bukan bilangan prima.\")\n",
        "else:\n",
        "    is_prima = True\n",
        "    for i in range(2, int(bilangan**0.5) + 1):\n",
        "        if bilangan % i == 0:\n",
        "            is_prima = False\n",
        "            break\n",
        "    if is_prima:\n",
        "        print(f\"{bilangan} adalah bilangan prima.\")\n",
        "    else:\n",
        "        print(f\"{bilangan} bukan bilangan prima.\")"
      ],
      "metadata": {
        "colab": {
          "base_uri": "https://localhost:8080/"
        },
        "id": "1BVXf4TTY614",
        "outputId": "e12deba2-17c8-40b3-9309-a65502ebbf0e"
      },
      "execution_count": 75,
      "outputs": [
        {
          "output_type": "stream",
          "name": "stdout",
          "text": [
            "Masukkan sebuah bilangan bulat: 13\n",
            "13 adalah bilangan prima.\n"
          ]
        }
      ]
    }
  ],
  "metadata": {
    "colab": {
      "name": "Welcome To Colab",
      "toc_visible": true,
      "provenance": [],
      "include_colab_link": true
    },
    "kernelspec": {
      "display_name": "Python 3",
      "name": "python3"
    }
  },
  "nbformat": 4,
  "nbformat_minor": 0
}